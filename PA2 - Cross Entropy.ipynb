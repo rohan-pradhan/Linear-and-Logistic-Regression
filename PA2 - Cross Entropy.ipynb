{
 "cells": [
  {
   "cell_type": "code",
   "execution_count": 4,
   "metadata": {
    "collapsed": true
   },
   "outputs": [],
   "source": [
    "import tensorflow as tf\n",
    "import numpy as np\n",
    "from statistics import mean \n",
    "with np.load(\"notMNIST.npz\") as data :\n",
    "    Data, Target = data [\"images\"], data[\"labels\"]\n",
    "    posClass = 2\n",
    "    negClass = 9\n",
    "    dataIndx = (Target==posClass) + (Target==negClass)\n",
    "    Data = Data[dataIndx]/255.\n",
    "    Target = Target[dataIndx].reshape(-1, 1)\n",
    "    Target[Target==posClass] = 1\n",
    "    Target[Target==negClass] = 0\n",
    "    np.random.seed(521)\n",
    "    randIndx = np.arange(len(Data))\n",
    "    np.random.shuffle(randIndx)\n",
    "    Data, Target = Data[randIndx], Target[randIndx]\n",
    "    trainData, trainTarget = Data[:3500], Target[:3500]\n",
    "    validData, validTarget = Data[3500:3600], Target[3500:3600]\n",
    "    testData, testTarget = Data[3600:], Target[3600:]"
   ]
  },
  {
   "cell_type": "code",
   "execution_count": 19,
   "metadata": {
    "collapsed": false
   },
   "outputs": [],
   "source": [
    "def start_test(weights,bias):\n",
    "    m, n, k = trainData.shape\n",
    "\n",
    "    #Validation Data\n",
    "    test_data = tf.constant(testData.reshape(-1,n*k),dtype=tf.float32, name=\"test_data\")\n",
    "    test_label = tf.constant(testTarget,dtype=tf.float32, name=\"test_label\")\n",
    "    \n",
    "    test_prediction = (tf.add(tf.matmul(test_data,weights), bias))\n",
    "\n",
    "    _, test_acc_log = tf.metrics.accuracy(labels=test_label, predictions=tf.round(tf.sigmoid(test_prediction)))\n",
    "\n",
    "    #initialized all vars\n",
    "    init = tf.global_variables_initializer()\n",
    "\n",
    "    #run!\n",
    "    with tf.Session() as sess:\n",
    "        #Local variables for accuracy metric\n",
    "        sess.run(tf.local_variables_initializer())\n",
    "        sess.run(init)        \n",
    "        return sess.run(test_acc_log)"
   ]
  },
  {
   "cell_type": "code",
   "execution_count": 20,
   "metadata": {
    "collapsed": false
   },
   "outputs": [],
   "source": [
    "def start_train(n_iterations,learning_rate,fix_decay_regularizer,batch_size):\n",
    "    \n",
    "    m, n, k = trainData.shape\n",
    "    n_epoch = int(n_iterations*batch_size/m)\n",
    "    \n",
    "    #Data Handler\n",
    "    valid_accuracy_log = np.zeros(n_epoch)\n",
    "    valid_entropy= np.zeros(n_epoch)\n",
    "    train_accuracy_log = np.zeros(n_epoch)\n",
    "    train_entropy = np.zeros(n_epoch)\n",
    "    \n",
    "    #Test Data (concatenate a 28x28 training data point to 1x(784))\n",
    "    x_in = tf.placeholder(tf.float32,[None,n*k], name=\"dataset_in\")\n",
    "    y_in = tf.placeholder(tf.float32, [None,1], name=\"true_value\")\n",
    "    \n",
    "    #Validation Data\n",
    "    valid_data = tf.constant(validData.reshape(-1,n*k),dtype=tf.float32, name=\"validation_data\")\n",
    "    valid_label = tf.constant(validTarget,dtype=tf.float32, name=\"validation_label\")\n",
    "    \n",
    "    #Weights\n",
    "    w = tf.Variable(tf.zeros([n*k, 1], dtype=np.float32), name=\"weight\")\n",
    "    b = tf.Variable(tf.zeros([1], dtype=np.float32), name=\"bias\")\n",
    "    \n",
    "    if fix_decay_regularizer:\n",
    "        decaybias = 0\n",
    "    else:\n",
    "        decaybias = 0.01 #tf.Variable(0.01, name=\"decay_regularizer\")\n",
    "    \n",
    "    #optimizer\n",
    "    optimizer = tf.train.GradientDescentOptimizer(learning_rate=learning_rate)\n",
    "                \n",
    "    #train Loss functions\n",
    "    y_pred = tf.add(tf.matmul(x_in,w),b)\n",
    "    loss_weight_decay=tf.nn.l2_loss(w) #0 anyways %loss_weight_decay=h*tf.square(tf.norm(w,ord=2)) #0 anyways\n",
    "    train_cross_entropy = tf.nn.sigmoid_cross_entropy_with_logits(logits= y_pred,labels = y_in)\n",
    "    train_loss_total = tf.reduce_mean(tf.add(train_cross_entropy,tf.multiply(decaybias,loss_weight_decay)))\n",
    "    \n",
    "    #Validation Loss functions\n",
    "    valid_prediction = (tf.add(tf.matmul(valid_data,w), b))\n",
    "    valid_cross_entropy = tf.nn.sigmoid_cross_entropy_with_logits(logits= valid_prediction,labels = valid_label)\n",
    "    valid_loss_total = tf.reduce_mean(tf.add(valid_cross_entropy,tf.multiply(decaybias,loss_weight_decay)))\n",
    "    \n",
    "    #Validation and Data Loggers\n",
    "    #since we are a probability, if greater than 50%, set to 1 else set to 0 (thats why we round)\n",
    "    _, train_acc_log = tf.metrics.accuracy(labels=y_in, predictions=tf.round(tf.sigmoid(y_pred)))\n",
    "    _, valid_acc_log = tf.metrics.accuracy(labels=valid_label, predictions=tf.round(tf.sigmoid(valid_prediction)))\n",
    "    \n",
    "    #Train\n",
    "    train = optimizer.minimize(train_loss_total)\n",
    "    \n",
    "    #initialized all vars\n",
    "    init = tf.global_variables_initializer()\n",
    "    \n",
    "    #run!\n",
    "    with tf.Session() as sess:\n",
    "        #Local variables for accuracy metric\n",
    "        sess.run(tf.local_variables_initializer())\n",
    "        sess.run(init)\n",
    "        for epoch in range(n_epoch):\n",
    "            #clear our history (we use this to calculate the average accuracy/loss for each iteration)\n",
    "            entropy_history = 0\n",
    "            accuracy_history = 0\n",
    "            #reshuffles the dataset in unison. for each epoch\n",
    "            rng_state = np.random.get_state()\n",
    "            np.random.shuffle(trainData)\n",
    "            np.random.set_state(rng_state)\n",
    "            np.random.shuffle(trainTarget)\n",
    "            #every 100 epoch, update the user\n",
    "            #batches of batch_size up to total number of datapoints (3500)\n",
    "            for offset in range(0, 3500, batch_size):\n",
    "                #find the proper dataset\n",
    "                batch_x = trainData[offset:offset+batch_size]\n",
    "                batch_y = trainTarget[offset:offset+batch_size]\n",
    "                #train\n",
    "                sess.run((train),feed_dict={x_in:batch_x.reshape(-1,n*k),y_in:batch_y})\n",
    "                #add to history\n",
    "                entropy_history = entropy_history + sess.run(train_loss_total,feed_dict={x_in:batch_x.reshape(-1,n*k),y_in:batch_y})\n",
    "                accuracy_history= accuracy_history + sess.run(train_acc_log,feed_dict={x_in:batch_x.reshape(-1,n*k),y_in:batch_y})\n",
    "    \n",
    "            #calculate and store the average history for that iteration\n",
    "            train_entropy[epoch] = entropy_history/(3500/batch_size)\n",
    "            train_accuracy_log[epoch] = accuracy_history/(3500/batch_size)\n",
    "            #store validation data\n",
    "            valid_accuracy_log[epoch] = sess.run(valid_acc_log)\n",
    "            valid_entropy[epoch] = sess.run(valid_loss_total)\n",
    "        #evaluate test data\n",
    "        best_weight = w.eval()\n",
    "        best_bias = b.eval()\n",
    "        test_accuracy = start_test(best_weight,best_bias)\n",
    "        return train_entropy,train_accuracy_log,valid_accuracy_log,valid_entropy,test_accuracy"
   ]
  },
  {
   "cell_type": "code",
   "execution_count": 21,
   "metadata": {
    "collapsed": false
   },
   "outputs": [
    {
     "data": {
      "image/png": "[encoded data removed]",
      "text/plain": [
       "<matplotlib.figure.Figure at 0x20817517e48>"
      ]
     },
     "metadata": {},
     "output_type": "display_data"
    },
    {
     "name": "stdout",
     "output_type": "stream",
     "text": [
      "test_acc= 0.9655172\n",
      "train_accuracy= 0.9767628141811916 validation_accuracy= 0.9800000190734863 train_loss function= 0.07979274221829005\n"
     ]
    }
   ],
   "source": [
    "train_acc_log = np.zeros(len(trainData))\n",
    "valid_acc_log = np.zeros(len(trainData))\n",
    "valid_ent_log = np.zeros(len(trainData))\n",
    "train_loss = np.zeros(len(trainData))\n",
    "\n",
    "for i in range(10):\n",
    "    train_loss,train_acc_log,valid_acc_log,valid_ent_log,test_acc_log= start_train(5000,0.001,False,500) \n",
    "    \n",
    "import matplotlib.pyplot as p \n",
    "p.plot(train_loss,'b-', label=\"train\")\n",
    "p.plot(train_acc_log,'b-')\n",
    "p.plot(valid_acc_log,'r-',label =\"validation\")\n",
    "p.plot(valid_ent_log,'r-')\n",
    "p.legend(numpoints = 1)\n",
    "p.show()\n",
    "print(\"test_acc=\",test_acc_log)\n",
    "print(\"train_accuracy=\",np.max(train_acc_log),\"validation_accuracy=\",np.max(valid_acc_log),\"train_loss function=\",np.min(train_loss))\n",
    "#avrg_min_loss,avrg_max_acc"
   ]
  },
  {
   "cell_type": "code",
   "execution_count": null,
   "metadata": {
    "collapsed": false
   },
   "outputs": [],
   "source": [
    "#data_accuracy= 0.9803346821240017 validation_accuracy= 0.9795798063278198 loss function= 0.06624805820839745 for learning rate 0.005\n",
    "#data_accuracy= 0.976664662361145 validation_accuracy= 0.9778531193733215 loss function= 0.05492367595434189 for learning 0.001\n",
    "#(0.14226588606834412, 0.9712700843811035) for learning rate 0.0001\n",
    "for start, end in zip(range(0, 1000, 500) ,range(500, 1000 + 1,500)):\n",
    "    print(start,end)"
   ]
  },
  {
   "cell_type": "code",
   "execution_count": null,
   "metadata": {
    "collapsed": false
   },
   "outputs": [],
   "source": [
    "#\n",
    "def loss_func_test(n_iterations,learning_rate,fix_decay_regularizer,batch_size):\n",
    "    \n",
    "    m, n, k = trainData.shape\n",
    "    n_epoch = int(n_iterations*batch_size/m)\n",
    "    \n",
    "    accuracy_log = np.zeros(n_epoch)\n",
    "    loss = np.zeros(n_epoch)\n",
    "\n",
    "    #Data (concatenate a 28x28 training data point to 1x(784))\n",
    "    x_in = tf.constant(trainData.reshape(-1,n*k),dtype=tf.float32, name=\"dataset_in\")\n",
    "    y_in = tf.constant(trainTarget,dtype=tf.float32, name=\"true_value\")\n",
    "        \n",
    "    #Weights\n",
    "    w = tf.Variable(tf.zeros([n*k, 1], dtype=np.float32), name=\"weight\")\n",
    "    b = tf.Variable(tf.zeros([1], dtype=np.float32), name=\"bias\")\n",
    "    \n",
    "    if fix_decay_regularizer:\n",
    "        decaybias = 0\n",
    "    else:\n",
    "        decaybias = 0.01 #tf.Variable(0.01, name=\"decay_regularizer\")\n",
    "    \n",
    "    #optimizer\n",
    "    optimizer = tf.train.GradientDescentOptimizer(learning_rate=learning_rate)\n",
    "                \n",
    "    #Loss functions\n",
    "    y_pred = tf.add(tf.matmul(x_in,w),b)\n",
    "    loss_weight_decay=tf.nn.l2_loss(w) #0 anyways %loss_weight_decay=h*tf.square(tf.norm(w,ord=2)) #0 anyways\n",
    "    cross_entropy = tf.nn.sigmoid_cross_entropy_with_logits(logits= y_pred,labels = y_in)\n",
    "    loss_total = tf.reduce_mean(tf.add(cross_entropy,tf.multiply(decaybias,loss_weight_decay)))\n",
    "    \n",
    "    #Data Loggers\n",
    "    acc, acc_log = tf.metrics.accuracy(labels=y_in, predictions=tf.round(tf.sigmoid(y_pred)))\n",
    "        \n",
    "    #Train\n",
    "    train = optimizer.minimize(loss_total)\n",
    "    \n",
    "    #initialized all vars\n",
    "    init = tf.global_variables_initializer()\n",
    "    \n",
    "    #run!\n",
    "    with tf.Session() as sess:\n",
    "        sess.run(tf.local_variables_initializer())\n",
    "        sess.run(init)\n",
    "        for epoch in range(n_epoch):\n",
    "                #every 100 epoch, update the user\n",
    "            if epoch % 1000 == 0:\n",
    "                print(\"epoch=\",epoch,\"accuracy=\",sess.run(acc_log), \"loss=\",loss_total.eval())\n",
    "            sess.run(train)\n",
    "            accuracy_log[epoch] = sess.run(acc_log)\n",
    "            loss[epoch] = sess.run(loss_total)\n",
    "        return loss,accuracy_log"
   ]
  },
  {
   "cell_type": "code",
   "execution_count": null,
   "metadata": {
    "collapsed": false
   },
   "outputs": [],
   "source": [
    "acc_log = np.zeros(len(trainData))\n",
    "loss = np.zeros(len(trainData))\n",
    "loss,acc_log= loss_func_test(3500,0.005,False,3500) \n",
    "import matplotlib.pyplot as p \n",
    "p.plot(loss,'b-', label=\"loss\")\n",
    "p.plot(acc_log,'r-', label=\"accuracy\")\n",
    "p.legend(numpoints = 1)\n",
    "p.show()"
   ]
  },
  {
   "cell_type": "code",
   "execution_count": null,
   "metadata": {
    "collapsed": false
   },
   "outputs": [],
   "source": []
  }
 ],
 "metadata": {
  "anaconda-cloud": {},
  "kernelspec": {
   "display_name": "Python [default]",
   "language": "python",
   "name": "python3"
  },
  "language_info": {
   "codemirror_mode": {
    "name": "ipython",
    "version": 3
   },
   "file_extension": ".py",
   "mimetype": "text/x-python",
   "name": "python",
   "nbconvert_exporter": "python",
   "pygments_lexer": "ipython3",
   "version": "3.5.2"
  }
 },
 "nbformat": 4,
 "nbformat_minor": 1
}
